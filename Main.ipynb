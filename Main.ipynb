{
 "cells": [
  {
   "cell_type": "markdown",
   "metadata": {},
   "source": [
    "# AcousticBrainz Feature Analysis\n",
    "\n",
    "The goal of this project is to generate graphs that represent the musical features with respect to the files' generes that are present in 4 datasets: \n",
    "- the allmusic dataset\n",
    "- the discogs dataset\n",
    "- the lastfm dataset\n",
    "- the tagtraum dataset\n",
    "\n",
    "And then compute the graphs with the features and the generes of those files. But first, the N subgeneres with the most songs will be computed for simplicity sake.\n",
    "\n",
    "### Importing externals and constants"
   ]
  },
  {
   "cell_type": "code",
   "execution_count": 1,
   "metadata": {},
   "outputs": [
    {
     "name": "stdout",
     "output_type": "stream",
     "text": [
      "ROOT_DIR:  /notebooks\n",
      "IMAGE_FOLDER:  /notebooks/Output Plots\n",
      "DATA_FOLDER:  /notebooks/Data Files\n"
     ]
    }
   ],
   "source": [
    "from utilities.constants import *\n",
    "from utilities.data_management import *\n",
    "from utilities.file_management import *\n",
    "from utilities.plot_utils import *\n",
    "\n",
    "print(\"ROOT_DIR: \",ROOT_DIR)\n",
    "print(\"IMAGE_FOLDER: \",IMAGE_FOLDER)\n",
    "print(\"DATA_FOLDER: \",DATA_FOLDER)"
   ]
  },
  {
   "cell_type": "markdown",
   "metadata": {},
   "source": [
    "### Getting the Ids for all datasets\n",
    "\n",
    "The datasets must be in tsv format ('\\t' delimiter) and should contain the name of the file in the first column of the file (the first element of the first column, will be ignored as it should be its name). If the file to be read is different from a tsv file, give the delimiter as a kwarg (delimiter = ',' for instance) "
   ]
  },
  {
   "cell_type": "code",
   "execution_count": 2,
   "metadata": {},
   "outputs": [],
   "source": [
    "allmusic_ids = get_ids(\"acousticbrainz-mediaeval2017-allmusic-train.tsv\")\n",
    "discogs_ids = get_ids(\"acousticbrainz-mediaeval2017-discogs-train.tsv\")\n",
    "lastfm_ids = get_ids(\"acousticbrainz-mediaeval2017-lastfm-train.tsv\")\n",
    "tagtraum_ids = get_ids(\"acousticbrainz-mediaeval2017-tagtraum-train.tsv\")"
   ]
  },
  {
   "cell_type": "markdown",
   "metadata": {},
   "source": [
    "### Computing the intersection of all the ids\n",
    "\n",
    "with the ids in four different iterables, the intersection can be computed easily by converting the lists to sets."
   ]
  },
  {
   "cell_type": "code",
   "execution_count": 3,
   "metadata": {},
   "outputs": [],
   "source": [
    "intersection_ids = compute_instersection(allmusic_ids,discogs_ids,lastfm_ids,tagtraum_ids)\n"
   ]
  },
  {
   "cell_type": "markdown",
   "metadata": {},
   "source": [
    "### Computing the list of sounds with the generes with most occurrences in the lastfm dataset\n",
    "\n",
    "For that, first the dataset is loaded and the desired sounds obtained in the intersection are extracted."
   ]
  },
  {
   "cell_type": "code",
   "execution_count": 4,
   "metadata": {},
   "outputs": [
    {
     "name": "stdout",
     "output_type": "stream",
     "text": [
      "Rows of lastfm_sounds (number of sound files):  247716\n"
     ]
    }
   ],
   "source": [
    "lastfm_sounds = load_file(\"acousticbrainz-mediaeval2017-lastfm-train.tsv\")\n",
    "\n",
    "#get the ids to remove and remove them from the dataframe\n",
    "diff = set(lastfm_sounds.index.tolist())-intersection_ids\n",
    "lastfm_sounds = lastfm_sounds.drop(diff)\n",
    "\n",
    "print(\"Rows of lastfm_sounds (number of sound files): \", lastfm_sounds.shape[0])"
   ]
  },
  {
   "cell_type": "markdown",
   "metadata": {},
   "source": [
    "Then the most frequent generes are obtained from that reduced dataset"
   ]
  },
  {
   "cell_type": "code",
   "execution_count": 5,
   "metadata": {},
   "outputs": [],
   "source": [
    "most_frequent = get_most_frequent(lastfm_sounds,N = 20)"
   ]
  },
  {
   "cell_type": "markdown",
   "metadata": {},
   "source": [
    "And with that list of generes, the dataset is reduced again by extracting the sounds with those generes"
   ]
  },
  {
   "cell_type": "code",
   "execution_count": 6,
   "metadata": {},
   "outputs": [],
   "source": [
    "lastfm_sounds = reduce_df(lastfm_sounds,most_frequent)\n",
    "most_frequent_generes_lastfm_sounds = lastfm_sounds.index.tolist()"
   ]
  },
  {
   "cell_type": "markdown",
   "metadata": {},
   "source": [
    "### Computation of the reduced dataset containing the features to be plotted"
   ]
  },
  {
   "cell_type": "code",
   "execution_count": 7,
   "metadata": {},
   "outputs": [
    {
     "name": "stdout",
     "output_type": "stream",
     "text": [
      "(124185, 8)\n"
     ]
    },
    {
     "data": {
      "text/html": [
       "<div>\n",
       "<style scoped>\n",
       "    .dataframe tbody tr th:only-of-type {\n",
       "        vertical-align: middle;\n",
       "    }\n",
       "\n",
       "    .dataframe tbody tr th {\n",
       "        vertical-align: top;\n",
       "    }\n",
       "\n",
       "    .dataframe thead th {\n",
       "        text-align: right;\n",
       "    }\n",
       "</style>\n",
       "<table border=\"1\" class=\"dataframe\">\n",
       "  <thead>\n",
       "    <tr style=\"text-align: right;\">\n",
       "      <th></th>\n",
       "      <th>lowlevel.average_loudness</th>\n",
       "      <th>metadata.audio_properties.length</th>\n",
       "      <th>metadata.audio_properties.replay_gain</th>\n",
       "      <th>rhythm.bpm</th>\n",
       "      <th>rhythm.danceability</th>\n",
       "      <th>rhythm.onset_rate</th>\n",
       "      <th>tonal.key_key</th>\n",
       "      <th>tonal.key_scale</th>\n",
       "    </tr>\n",
       "    <tr>\n",
       "      <th>mbid</th>\n",
       "      <th></th>\n",
       "      <th></th>\n",
       "      <th></th>\n",
       "      <th></th>\n",
       "      <th></th>\n",
       "      <th></th>\n",
       "      <th></th>\n",
       "      <th></th>\n",
       "    </tr>\n",
       "  </thead>\n",
       "  <tbody>\n",
       "    <tr>\n",
       "      <th>00005a44-2152-4971-80c1-c217563845eb</th>\n",
       "      <td>0.902541</td>\n",
       "      <td>333.348572</td>\n",
       "      <td>-5.080051</td>\n",
       "      <td>128.858856</td>\n",
       "      <td>1.105704</td>\n",
       "      <td>2.669715</td>\n",
       "      <td>D</td>\n",
       "      <td>minor</td>\n",
       "    </tr>\n",
       "    <tr>\n",
       "      <th>00005ac4-210c-4914-89ba-6279ea881809</th>\n",
       "      <td>0.778497</td>\n",
       "      <td>274.756989</td>\n",
       "      <td>0.355402</td>\n",
       "      <td>142.368774</td>\n",
       "      <td>1.228754</td>\n",
       "      <td>3.260870</td>\n",
       "      <td>A#</td>\n",
       "      <td>major</td>\n",
       "    </tr>\n",
       "    <tr>\n",
       "      <th>00007960-9d81-4192-b548-ad33d6b0ca54</th>\n",
       "      <td>0.968310</td>\n",
       "      <td>191.440002</td>\n",
       "      <td>-12.583757</td>\n",
       "      <td>115.908508</td>\n",
       "      <td>1.148735</td>\n",
       "      <td>3.327064</td>\n",
       "      <td>A</td>\n",
       "      <td>minor</td>\n",
       "    </tr>\n",
       "    <tr>\n",
       "      <th>0000d8a7-8a9b-4b9d-a95c-038c6cb66547</th>\n",
       "      <td>0.937835</td>\n",
       "      <td>291.186676</td>\n",
       "      <td>-16.055473</td>\n",
       "      <td>90.996552</td>\n",
       "      <td>1.063905</td>\n",
       "      <td>3.094078</td>\n",
       "      <td>D</td>\n",
       "      <td>major</td>\n",
       "    </tr>\n",
       "    <tr>\n",
       "      <th>0000fb36-5ee0-44c5-9fa7-5c944d8a85ac</th>\n",
       "      <td>0.903276</td>\n",
       "      <td>291.030212</td>\n",
       "      <td>-16.016674</td>\n",
       "      <td>134.997910</td>\n",
       "      <td>1.110559</td>\n",
       "      <td>4.439092</td>\n",
       "      <td>D</td>\n",
       "      <td>minor</td>\n",
       "    </tr>\n",
       "  </tbody>\n",
       "</table>\n",
       "</div>"
      ],
      "text/plain": [
       "                                      lowlevel.average_loudness  \\\n",
       "mbid                                                              \n",
       "00005a44-2152-4971-80c1-c217563845eb                   0.902541   \n",
       "00005ac4-210c-4914-89ba-6279ea881809                   0.778497   \n",
       "00007960-9d81-4192-b548-ad33d6b0ca54                   0.968310   \n",
       "0000d8a7-8a9b-4b9d-a95c-038c6cb66547                   0.937835   \n",
       "0000fb36-5ee0-44c5-9fa7-5c944d8a85ac                   0.903276   \n",
       "\n",
       "                                      metadata.audio_properties.length  \\\n",
       "mbid                                                                     \n",
       "00005a44-2152-4971-80c1-c217563845eb                        333.348572   \n",
       "00005ac4-210c-4914-89ba-6279ea881809                        274.756989   \n",
       "00007960-9d81-4192-b548-ad33d6b0ca54                        191.440002   \n",
       "0000d8a7-8a9b-4b9d-a95c-038c6cb66547                        291.186676   \n",
       "0000fb36-5ee0-44c5-9fa7-5c944d8a85ac                        291.030212   \n",
       "\n",
       "                                      metadata.audio_properties.replay_gain  \\\n",
       "mbid                                                                          \n",
       "00005a44-2152-4971-80c1-c217563845eb                              -5.080051   \n",
       "00005ac4-210c-4914-89ba-6279ea881809                               0.355402   \n",
       "00007960-9d81-4192-b548-ad33d6b0ca54                             -12.583757   \n",
       "0000d8a7-8a9b-4b9d-a95c-038c6cb66547                             -16.055473   \n",
       "0000fb36-5ee0-44c5-9fa7-5c944d8a85ac                             -16.016674   \n",
       "\n",
       "                                      rhythm.bpm  rhythm.danceability  \\\n",
       "mbid                                                                    \n",
       "00005a44-2152-4971-80c1-c217563845eb  128.858856             1.105704   \n",
       "00005ac4-210c-4914-89ba-6279ea881809  142.368774             1.228754   \n",
       "00007960-9d81-4192-b548-ad33d6b0ca54  115.908508             1.148735   \n",
       "0000d8a7-8a9b-4b9d-a95c-038c6cb66547   90.996552             1.063905   \n",
       "0000fb36-5ee0-44c5-9fa7-5c944d8a85ac  134.997910             1.110559   \n",
       "\n",
       "                                      rhythm.onset_rate tonal.key_key  \\\n",
       "mbid                                                                    \n",
       "00005a44-2152-4971-80c1-c217563845eb           2.669715             D   \n",
       "00005ac4-210c-4914-89ba-6279ea881809           3.260870            A#   \n",
       "00007960-9d81-4192-b548-ad33d6b0ca54           3.327064             A   \n",
       "0000d8a7-8a9b-4b9d-a95c-038c6cb66547           3.094078             D   \n",
       "0000fb36-5ee0-44c5-9fa7-5c944d8a85ac           4.439092             D   \n",
       "\n",
       "                                     tonal.key_scale  \n",
       "mbid                                                  \n",
       "00005a44-2152-4971-80c1-c217563845eb           minor  \n",
       "00005ac4-210c-4914-89ba-6279ea881809           major  \n",
       "00007960-9d81-4192-b548-ad33d6b0ca54           minor  \n",
       "0000d8a7-8a9b-4b9d-a95c-038c6cb66547           major  \n",
       "0000fb36-5ee0-44c5-9fa7-5c944d8a85ac           minor  "
      ]
     },
     "execution_count": 7,
     "metadata": {},
     "output_type": "execute_result"
    }
   ],
   "source": [
    "selected_features = load_file(\"acousticbrainz-mediaeval2017-train-amplab2019-selected-features-mbid.csv\",sep=',')\n",
    "diff_features = set(selected_features.index.tolist())-set(most_frequent_generes_lastfm_sounds)\n",
    "selected_features = selected_features.drop(diff_features)\n",
    "print(selected_features.shape)\n",
    "selected_features.sort_index().head()"
   ]
  },
  {
   "cell_type": "markdown",
   "metadata": {},
   "source": [
    "### Organization of the features in a dictionary of generes and plot them"
   ]
  },
  {
   "cell_type": "code",
   "execution_count": 8,
   "metadata": {},
   "outputs": [
    {
     "name": "stdout",
     "output_type": "stream",
     "text": [
      "Done!\n"
     ]
    }
   ],
   "source": [
    "information = organize_features_in_genre_dict(selected_features, lastfm_sounds, most_frequent)\n",
    "\n",
    "plot_all_features(information, selected_features, most_frequent)"
   ]
  },
  {
   "cell_type": "markdown",
   "metadata": {},
   "source": [
    "### Additional features computation\n",
    "\n",
    "This cell takes a long time, so the resulting dataframe is saved in the next cell, in case it is needed again."
   ]
  },
  {
   "cell_type": "code",
   "execution_count": 9,
   "metadata": {},
   "outputs": [
    {
     "name": "stdout",
     "output_type": "stream",
     "text": [
      "2559.237488000001\n",
      "9/257\n",
      "Expected time: 0h 42m 39s\n"
     ]
    },
    {
     "ename": "KeyboardInterrupt",
     "evalue": "",
     "output_type": "error",
     "traceback": [
      "\u001b[0;31m---------------------------------------------------------------------------\u001b[0m",
      "\u001b[0;31mKeyboardInterrupt\u001b[0m                         Traceback (most recent call last)",
      "\u001b[0;32m<ipython-input-9-7a6653958bbd>\u001b[0m in \u001b[0;36m<module>\u001b[0;34m()\u001b[0m\n\u001b[1;32m      5\u001b[0m                      ,\"voice_instrumental\", \"voice_instrumental\", \"gender\", \"gender\"] \n\u001b[1;32m      6\u001b[0m \u001b[0;34m\u001b[0m\u001b[0m\n\u001b[0;32m----> 7\u001b[0;31m \u001b[0mhighlevel_features\u001b[0m \u001b[0;34m=\u001b[0m \u001b[0mdataframe_from_json\u001b[0m\u001b[0;34m(\u001b[0m\u001b[0mfeatures_to_extract_from_json\u001b[0m\u001b[0;34m,\u001b[0m \u001b[0mlabels_to_extract\u001b[0m\u001b[0;34m,\u001b[0m \u001b[0mselected_features\u001b[0m\u001b[0;34m)\u001b[0m\u001b[0;34m\u001b[0m\u001b[0m\n\u001b[0m",
      "\u001b[0;32m/notebooks/utilities/data_management.py\u001b[0m in \u001b[0;36mdataframe_from_json\u001b[0;34m(features_to_extract_from_json, labels_to_extract, features_df)\u001b[0m\n\u001b[1;32m    180\u001b[0m                         \u001b[0mtemp_dict\u001b[0m\u001b[0;34m[\u001b[0m\u001b[0mfeature\u001b[0m\u001b[0;34m]\u001b[0m \u001b[0;34m=\u001b[0m \u001b[0mjson_dict\u001b[0m\u001b[0;34m[\u001b[0m\u001b[0mlabel\u001b[0m\u001b[0;34m]\u001b[0m\u001b[0;34m[\u001b[0m\u001b[0;34m\"all\"\u001b[0m\u001b[0;34m]\u001b[0m\u001b[0;34m[\u001b[0m\u001b[0mfeature\u001b[0m\u001b[0;34m]\u001b[0m\u001b[0;34m\u001b[0m\u001b[0m\n\u001b[1;32m    181\u001b[0m \u001b[0;34m\u001b[0m\u001b[0m\n\u001b[0;32m--> 182\u001b[0;31m                     \u001b[0mtemp_dataframe\u001b[0m \u001b[0;34m=\u001b[0m \u001b[0mpd\u001b[0m\u001b[0;34m.\u001b[0m\u001b[0mDataFrame\u001b[0m\u001b[0;34m(\u001b[0m\u001b[0mtemp_dict\u001b[0m\u001b[0;34m,\u001b[0m\u001b[0mindex\u001b[0m\u001b[0;34m=\u001b[0m\u001b[0;34m[\u001b[0m\u001b[0;36m0\u001b[0m\u001b[0;34m]\u001b[0m\u001b[0;34m)\u001b[0m\u001b[0;34m\u001b[0m\u001b[0m\n\u001b[0m\u001b[1;32m    183\u001b[0m                     \u001b[0mhighlevel_features\u001b[0m \u001b[0;34m=\u001b[0m \u001b[0mpd\u001b[0m\u001b[0;34m.\u001b[0m\u001b[0mconcat\u001b[0m\u001b[0;34m(\u001b[0m\u001b[0;34m[\u001b[0m\u001b[0mhighlevel_features\u001b[0m\u001b[0;34m,\u001b[0m\u001b[0mtemp_dataframe\u001b[0m\u001b[0;34m]\u001b[0m\u001b[0;34m,\u001b[0m\u001b[0mignore_index\u001b[0m \u001b[0;34m=\u001b[0m \u001b[0;32mTrue\u001b[0m\u001b[0;34m,\u001b[0m\u001b[0msort\u001b[0m \u001b[0;34m=\u001b[0m \u001b[0;32mTrue\u001b[0m\u001b[0;34m)\u001b[0m\u001b[0;34m\u001b[0m\u001b[0m\n\u001b[1;32m    184\u001b[0m \u001b[0;34m\u001b[0m\u001b[0m\n",
      "\u001b[0;32m/usr/local/lib/python3.5/dist-packages/pandas/core/frame.py\u001b[0m in \u001b[0;36m__init__\u001b[0;34m(self, data, index, columns, dtype, copy)\u001b[0m\n\u001b[1;32m    346\u001b[0m                                  dtype=dtype, copy=copy)\n\u001b[1;32m    347\u001b[0m         \u001b[0;32melif\u001b[0m \u001b[0misinstance\u001b[0m\u001b[0;34m(\u001b[0m\u001b[0mdata\u001b[0m\u001b[0;34m,\u001b[0m \u001b[0mdict\u001b[0m\u001b[0;34m)\u001b[0m\u001b[0;34m:\u001b[0m\u001b[0;34m\u001b[0m\u001b[0m\n\u001b[0;32m--> 348\u001b[0;31m             \u001b[0mmgr\u001b[0m \u001b[0;34m=\u001b[0m \u001b[0mself\u001b[0m\u001b[0;34m.\u001b[0m\u001b[0m_init_dict\u001b[0m\u001b[0;34m(\u001b[0m\u001b[0mdata\u001b[0m\u001b[0;34m,\u001b[0m \u001b[0mindex\u001b[0m\u001b[0;34m,\u001b[0m \u001b[0mcolumns\u001b[0m\u001b[0;34m,\u001b[0m \u001b[0mdtype\u001b[0m\u001b[0;34m=\u001b[0m\u001b[0mdtype\u001b[0m\u001b[0;34m)\u001b[0m\u001b[0;34m\u001b[0m\u001b[0m\n\u001b[0m\u001b[1;32m    349\u001b[0m         \u001b[0;32melif\u001b[0m \u001b[0misinstance\u001b[0m\u001b[0;34m(\u001b[0m\u001b[0mdata\u001b[0m\u001b[0;34m,\u001b[0m \u001b[0mma\u001b[0m\u001b[0;34m.\u001b[0m\u001b[0mMaskedArray\u001b[0m\u001b[0;34m)\u001b[0m\u001b[0;34m:\u001b[0m\u001b[0;34m\u001b[0m\u001b[0m\n\u001b[1;32m    350\u001b[0m             \u001b[0;32mimport\u001b[0m \u001b[0mnumpy\u001b[0m\u001b[0;34m.\u001b[0m\u001b[0mma\u001b[0m\u001b[0;34m.\u001b[0m\u001b[0mmrecords\u001b[0m \u001b[0;32mas\u001b[0m \u001b[0mmrecords\u001b[0m\u001b[0;34m\u001b[0m\u001b[0m\n",
      "\u001b[0;32m/usr/local/lib/python3.5/dist-packages/pandas/core/frame.py\u001b[0m in \u001b[0;36m_init_dict\u001b[0;34m(self, data, index, columns, dtype)\u001b[0m\n\u001b[1;32m    457\u001b[0m             \u001b[0marrays\u001b[0m \u001b[0;34m=\u001b[0m \u001b[0;34m[\u001b[0m\u001b[0mdata\u001b[0m\u001b[0;34m[\u001b[0m\u001b[0mk\u001b[0m\u001b[0;34m]\u001b[0m \u001b[0;32mfor\u001b[0m \u001b[0mk\u001b[0m \u001b[0;32min\u001b[0m \u001b[0mkeys\u001b[0m\u001b[0;34m]\u001b[0m\u001b[0;34m\u001b[0m\u001b[0m\n\u001b[1;32m    458\u001b[0m \u001b[0;34m\u001b[0m\u001b[0m\n\u001b[0;32m--> 459\u001b[0;31m         \u001b[0;32mreturn\u001b[0m \u001b[0m_arrays_to_mgr\u001b[0m\u001b[0;34m(\u001b[0m\u001b[0marrays\u001b[0m\u001b[0;34m,\u001b[0m \u001b[0mdata_names\u001b[0m\u001b[0;34m,\u001b[0m \u001b[0mindex\u001b[0m\u001b[0;34m,\u001b[0m \u001b[0mcolumns\u001b[0m\u001b[0;34m,\u001b[0m \u001b[0mdtype\u001b[0m\u001b[0;34m=\u001b[0m\u001b[0mdtype\u001b[0m\u001b[0;34m)\u001b[0m\u001b[0;34m\u001b[0m\u001b[0m\n\u001b[0m\u001b[1;32m    460\u001b[0m \u001b[0;34m\u001b[0m\u001b[0m\n\u001b[1;32m    461\u001b[0m     \u001b[0;32mdef\u001b[0m \u001b[0m_init_ndarray\u001b[0m\u001b[0;34m(\u001b[0m\u001b[0mself\u001b[0m\u001b[0;34m,\u001b[0m \u001b[0mvalues\u001b[0m\u001b[0;34m,\u001b[0m \u001b[0mindex\u001b[0m\u001b[0;34m,\u001b[0m \u001b[0mcolumns\u001b[0m\u001b[0;34m,\u001b[0m \u001b[0mdtype\u001b[0m\u001b[0;34m=\u001b[0m\u001b[0;32mNone\u001b[0m\u001b[0;34m,\u001b[0m \u001b[0mcopy\u001b[0m\u001b[0;34m=\u001b[0m\u001b[0;32mFalse\u001b[0m\u001b[0;34m)\u001b[0m\u001b[0;34m:\u001b[0m\u001b[0;34m\u001b[0m\u001b[0m\n",
      "\u001b[0;32m/usr/local/lib/python3.5/dist-packages/pandas/core/frame.py\u001b[0m in \u001b[0;36m_arrays_to_mgr\u001b[0;34m(arrays, arr_names, index, columns, dtype)\u001b[0m\n\u001b[1;32m   7357\u001b[0m \u001b[0;34m\u001b[0m\u001b[0m\n\u001b[1;32m   7358\u001b[0m     \u001b[0;31m# don't force copy because getting jammed in an ndarray anyway\u001b[0m\u001b[0;34m\u001b[0m\u001b[0;34m\u001b[0m\u001b[0m\n\u001b[0;32m-> 7359\u001b[0;31m     \u001b[0marrays\u001b[0m \u001b[0;34m=\u001b[0m \u001b[0m_homogenize\u001b[0m\u001b[0;34m(\u001b[0m\u001b[0marrays\u001b[0m\u001b[0;34m,\u001b[0m \u001b[0mindex\u001b[0m\u001b[0;34m,\u001b[0m \u001b[0mdtype\u001b[0m\u001b[0;34m)\u001b[0m\u001b[0;34m\u001b[0m\u001b[0m\n\u001b[0m\u001b[1;32m   7360\u001b[0m \u001b[0;34m\u001b[0m\u001b[0m\n\u001b[1;32m   7361\u001b[0m     \u001b[0;31m# from BlockManager perspective\u001b[0m\u001b[0;34m\u001b[0m\u001b[0;34m\u001b[0m\u001b[0m\n",
      "\u001b[0;32m/usr/local/lib/python3.5/dist-packages/pandas/core/frame.py\u001b[0m in \u001b[0;36m_homogenize\u001b[0;34m(data, index, dtype)\u001b[0m\n\u001b[1;32m   7667\u001b[0m                 \u001b[0mv\u001b[0m \u001b[0;34m=\u001b[0m \u001b[0mlib\u001b[0m\u001b[0;34m.\u001b[0m\u001b[0mfast_multiget\u001b[0m\u001b[0;34m(\u001b[0m\u001b[0mv\u001b[0m\u001b[0;34m,\u001b[0m \u001b[0moindex\u001b[0m\u001b[0;34m.\u001b[0m\u001b[0mvalues\u001b[0m\u001b[0;34m,\u001b[0m \u001b[0mdefault\u001b[0m\u001b[0;34m=\u001b[0m\u001b[0mnp\u001b[0m\u001b[0;34m.\u001b[0m\u001b[0mnan\u001b[0m\u001b[0;34m)\u001b[0m\u001b[0;34m\u001b[0m\u001b[0m\n\u001b[1;32m   7668\u001b[0m             v = _sanitize_array(v, index, dtype=dtype, copy=False,\n\u001b[0;32m-> 7669\u001b[0;31m                                 raise_cast_failure=False)\n\u001b[0m\u001b[1;32m   7670\u001b[0m \u001b[0;34m\u001b[0m\u001b[0m\n\u001b[1;32m   7671\u001b[0m         \u001b[0mhomogenized\u001b[0m\u001b[0;34m.\u001b[0m\u001b[0mappend\u001b[0m\u001b[0;34m(\u001b[0m\u001b[0mv\u001b[0m\u001b[0;34m)\u001b[0m\u001b[0;34m\u001b[0m\u001b[0m\n",
      "\u001b[0;32m/usr/local/lib/python3.5/dist-packages/pandas/core/series.py\u001b[0m in \u001b[0;36m_sanitize_array\u001b[0;34m(data, index, dtype, copy, raise_cast_failure)\u001b[0m\n\u001b[1;32m   4130\u001b[0m         \u001b[0msubarr\u001b[0m \u001b[0;34m=\u001b[0m \u001b[0m_try_cast\u001b[0m\u001b[0;34m(\u001b[0m\u001b[0marr\u001b[0m\u001b[0;34m,\u001b[0m \u001b[0;32mFalse\u001b[0m\u001b[0;34m)\u001b[0m\u001b[0;34m\u001b[0m\u001b[0m\n\u001b[1;32m   4131\u001b[0m     \u001b[0;32melse\u001b[0m\u001b[0;34m:\u001b[0m\u001b[0;34m\u001b[0m\u001b[0m\n\u001b[0;32m-> 4132\u001b[0;31m         \u001b[0msubarr\u001b[0m \u001b[0;34m=\u001b[0m \u001b[0m_try_cast\u001b[0m\u001b[0;34m(\u001b[0m\u001b[0mdata\u001b[0m\u001b[0;34m,\u001b[0m \u001b[0;32mFalse\u001b[0m\u001b[0;34m)\u001b[0m\u001b[0;34m\u001b[0m\u001b[0m\n\u001b[0m\u001b[1;32m   4133\u001b[0m \u001b[0;34m\u001b[0m\u001b[0m\n\u001b[1;32m   4134\u001b[0m     \u001b[0;31m# scalar like, GH\u001b[0m\u001b[0;34m\u001b[0m\u001b[0;34m\u001b[0m\u001b[0m\n",
      "\u001b[0;32m/usr/local/lib/python3.5/dist-packages/pandas/core/series.py\u001b[0m in \u001b[0;36m_try_cast\u001b[0;34m(arr, take_fast_path)\u001b[0m\n\u001b[1;32m   4049\u001b[0m                                            isinstance(subarr, np.ndarray))):\n\u001b[1;32m   4050\u001b[0m                 \u001b[0msubarr\u001b[0m \u001b[0;34m=\u001b[0m \u001b[0mconstruct_1d_object_array_from_listlike\u001b[0m\u001b[0;34m(\u001b[0m\u001b[0msubarr\u001b[0m\u001b[0;34m)\u001b[0m\u001b[0;34m\u001b[0m\u001b[0m\n\u001b[0;32m-> 4051\u001b[0;31m             \u001b[0;32melif\u001b[0m \u001b[0;32mnot\u001b[0m \u001b[0mis_extension_type\u001b[0m\u001b[0;34m(\u001b[0m\u001b[0msubarr\u001b[0m\u001b[0;34m)\u001b[0m\u001b[0;34m:\u001b[0m\u001b[0;34m\u001b[0m\u001b[0m\n\u001b[0m\u001b[1;32m   4052\u001b[0m                 subarr = construct_1d_ndarray_preserving_na(subarr, dtype,\n\u001b[1;32m   4053\u001b[0m                                                             copy=copy)\n",
      "\u001b[0;32m/usr/local/lib/python3.5/dist-packages/pandas/core/dtypes/common.py\u001b[0m in \u001b[0;36mis_extension_type\u001b[0;34m(arr)\u001b[0m\n\u001b[1;32m   1681\u001b[0m     \u001b[0;32melif\u001b[0m \u001b[0mis_sparse\u001b[0m\u001b[0;34m(\u001b[0m\u001b[0marr\u001b[0m\u001b[0;34m)\u001b[0m\u001b[0;34m:\u001b[0m\u001b[0;34m\u001b[0m\u001b[0m\n\u001b[1;32m   1682\u001b[0m         \u001b[0;32mreturn\u001b[0m \u001b[0;32mTrue\u001b[0m\u001b[0;34m\u001b[0m\u001b[0m\n\u001b[0;32m-> 1683\u001b[0;31m     \u001b[0;32melif\u001b[0m \u001b[0mis_datetimetz\u001b[0m\u001b[0;34m(\u001b[0m\u001b[0marr\u001b[0m\u001b[0;34m)\u001b[0m\u001b[0;34m:\u001b[0m\u001b[0;34m\u001b[0m\u001b[0m\n\u001b[0m\u001b[1;32m   1684\u001b[0m         \u001b[0;32mreturn\u001b[0m \u001b[0;32mTrue\u001b[0m\u001b[0;34m\u001b[0m\u001b[0m\n\u001b[1;32m   1685\u001b[0m     \u001b[0;32mreturn\u001b[0m \u001b[0;32mFalse\u001b[0m\u001b[0;34m\u001b[0m\u001b[0m\n",
      "\u001b[0;32m/usr/local/lib/python3.5/dist-packages/pandas/core/dtypes/common.py\u001b[0m in \u001b[0;36mis_datetimetz\u001b[0;34m(arr)\u001b[0m\n\u001b[1;32m    268\u001b[0m     return ((isinstance(arr, ABCDatetimeIndex) and\n\u001b[1;32m    269\u001b[0m              getattr(arr, 'tz', None) is not None) or\n\u001b[0;32m--> 270\u001b[0;31m             is_datetime64tz_dtype(arr))\n\u001b[0m\u001b[1;32m    271\u001b[0m \u001b[0;34m\u001b[0m\u001b[0m\n\u001b[1;32m    272\u001b[0m \u001b[0;34m\u001b[0m\u001b[0m\n",
      "\u001b[0;32m/usr/local/lib/python3.5/dist-packages/pandas/core/dtypes/common.py\u001b[0m in \u001b[0;36mis_datetime64tz_dtype\u001b[0;34m(arr_or_dtype)\u001b[0m\n\u001b[1;32m    402\u001b[0m     \u001b[0;32mif\u001b[0m \u001b[0marr_or_dtype\u001b[0m \u001b[0;32mis\u001b[0m \u001b[0;32mNone\u001b[0m\u001b[0;34m:\u001b[0m\u001b[0;34m\u001b[0m\u001b[0m\n\u001b[1;32m    403\u001b[0m         \u001b[0;32mreturn\u001b[0m \u001b[0;32mFalse\u001b[0m\u001b[0;34m\u001b[0m\u001b[0m\n\u001b[0;32m--> 404\u001b[0;31m     \u001b[0;32mreturn\u001b[0m \u001b[0mDatetimeTZDtype\u001b[0m\u001b[0;34m.\u001b[0m\u001b[0mis_dtype\u001b[0m\u001b[0;34m(\u001b[0m\u001b[0marr_or_dtype\u001b[0m\u001b[0;34m)\u001b[0m\u001b[0;34m\u001b[0m\u001b[0m\n\u001b[0m\u001b[1;32m    405\u001b[0m \u001b[0;34m\u001b[0m\u001b[0m\n\u001b[1;32m    406\u001b[0m \u001b[0;34m\u001b[0m\u001b[0m\n",
      "\u001b[0;32m/usr/local/lib/python3.5/dist-packages/pandas/core/dtypes/base.py\u001b[0m in \u001b[0;36mis_dtype\u001b[0;34m(cls, dtype)\u001b[0m\n\u001b[1;32m     84\u001b[0m         \u001b[0mdtype\u001b[0m \u001b[0;34m=\u001b[0m \u001b[0mgetattr\u001b[0m\u001b[0;34m(\u001b[0m\u001b[0mdtype\u001b[0m\u001b[0;34m,\u001b[0m \u001b[0;34m'dtype'\u001b[0m\u001b[0;34m,\u001b[0m \u001b[0mdtype\u001b[0m\u001b[0;34m)\u001b[0m\u001b[0;34m\u001b[0m\u001b[0m\n\u001b[1;32m     85\u001b[0m \u001b[0;34m\u001b[0m\u001b[0m\n\u001b[0;32m---> 86\u001b[0;31m         \u001b[0;32mif\u001b[0m \u001b[0misinstance\u001b[0m\u001b[0;34m(\u001b[0m\u001b[0mdtype\u001b[0m\u001b[0;34m,\u001b[0m \u001b[0mnp\u001b[0m\u001b[0;34m.\u001b[0m\u001b[0mdtype\u001b[0m\u001b[0;34m)\u001b[0m\u001b[0;34m:\u001b[0m\u001b[0;34m\u001b[0m\u001b[0m\n\u001b[0m\u001b[1;32m     87\u001b[0m             \u001b[0;32mreturn\u001b[0m \u001b[0;32mFalse\u001b[0m\u001b[0;34m\u001b[0m\u001b[0m\n\u001b[1;32m     88\u001b[0m         \u001b[0;32melif\u001b[0m \u001b[0mdtype\u001b[0m \u001b[0;32mis\u001b[0m \u001b[0;32mNone\u001b[0m\u001b[0;34m:\u001b[0m\u001b[0;34m\u001b[0m\u001b[0m\n",
      "\u001b[0;31mKeyboardInterrupt\u001b[0m: "
     ]
    }
   ],
   "source": [
    "features_to_extract_from_json = [ \"aggressive\", \"happy\", \"sad\", \"party\", \"relaxed\",\n",
    "                                 \"instrumental\", \"voice\", \"female\", \"male\"]\n",
    "\n",
    "labels_to_extract = [\"mood_aggressive\",\"mood_happy\",\"mood_sad\",\"mood_party\",\"mood_relaxed\"\n",
    "                     ,\"voice_instrumental\", \"voice_instrumental\", \"gender\", \"gender\"] \n",
    "\n",
    "highlevel_features = dataframe_from_json(features_to_extract_from_json, labels_to_extract, selected_features)"
   ]
  },
  {
   "cell_type": "code",
   "execution_count": null,
   "metadata": {},
   "outputs": [],
   "source": [
    "save_file(highlevel_features,\"acousticbrainz-mediaeval-train-intersection-highlevel-selectedfeatures.tsv\",\n",
    "          sep='\\t')"
   ]
  },
  {
   "cell_type": "markdown",
   "metadata": {},
   "source": [
    "### Organizing the features in a dictionary as it was done before"
   ]
  },
  {
   "cell_type": "code",
   "execution_count": null,
   "metadata": {},
   "outputs": [],
   "source": [
    "highlevel_features = load_file(\"acousticbrainz-mediaeval-train-intersection-highlevel-selectedfeatures.tsv\")\n",
    "information = organize_features_in_genre_dict(highlevel_features, lastfm_sounds, most_frequent)"
   ]
  },
  {
   "cell_type": "markdown",
   "metadata": {},
   "source": [
    "### Plotting the last plots"
   ]
  },
  {
   "cell_type": "code",
   "execution_count": null,
   "metadata": {
    "scrolled": true
   },
   "outputs": [],
   "source": [
    "plot_all_features(information, highlevel_features, most_frequent)"
   ]
  }
 ],
 "metadata": {
  "kernelspec": {
   "display_name": "Python 3",
   "language": "python",
   "name": "python3"
  },
  "language_info": {
   "codemirror_mode": {
    "name": "ipython",
    "version": 3
   },
   "file_extension": ".py",
   "mimetype": "text/x-python",
   "name": "python",
   "nbconvert_exporter": "python",
   "pygments_lexer": "ipython3",
   "version": "3.5.2"
  }
 },
 "nbformat": 4,
 "nbformat_minor": 2
}
