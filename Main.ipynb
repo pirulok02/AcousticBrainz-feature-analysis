{
 "cells": [
  {
   "cell_type": "code",
   "execution_count": 1,
   "metadata": {},
   "outputs": [
    {
     "name": "stdout",
     "output_type": "stream",
     "text": [
      "ROOT_DIR:  /notebooks\n",
      "IMAGE_FOLDER:  /notebooks/Output Plots\n",
      "DATA_FOLDER:  /notebooks/Data Files\n"
     ]
    }
   ],
   "source": [
    "from utilities.constants import *\n",
    "from utilities.data_management import *\n",
    "from utilities.file_management import *\n",
    "\n",
    "print(\"ROOT_DIR: \",ROOT_DIR)\n",
    "print(\"IMAGE_FOLDER: \",IMAGE_FOLDER)\n",
    "print(\"DATA_FOLDER: \",DATA_FOLDER)"
   ]
  },
  {
   "cell_type": "code",
   "execution_count": 2,
   "metadata": {},
   "outputs": [],
   "source": [
    "allmusic_ids = get_ids(\"acousticbrainz-mediaeval2017-allmusic-train.tsv\")\n",
    "discogs_ids = get_ids(\"acousticbrainz-mediaeval2017-discogs-train.tsv\")\n",
    "lastfm_ids = get_ids(\"acousticbrainz-mediaeval2017-lastfm-train.tsv\")\n",
    "tagtraum_ids = get_ids(\"acousticbrainz-mediaeval2017-tagtraum-train.tsv\")"
   ]
  },
  {
   "cell_type": "code",
   "execution_count": 3,
   "metadata": {},
   "outputs": [],
   "source": [
    "intersection_ids = compute_instersection(allmusic_ids,discogs_ids,lastfm_ids,tagtraum_ids)"
   ]
  },
  {
   "cell_type": "code",
   "execution_count": 4,
   "metadata": {},
   "outputs": [
    {
     "name": "stdout",
     "output_type": "stream",
     "text": [
      "Rows of lastfm_sounds (elements):  247716\n"
     ]
    }
   ],
   "source": [
    "lastfm_sounds = load_file(\"acousticbrainz-mediaeval2017-lastfm-train.tsv\")\n",
    "\n",
    "#get the ids to remove and remove them from the dataframe\n",
    "diff = set(lastfm_sounds.index.tolist())-intersection_ids\n",
    "lastfm_sounds = lastfm_sounds.drop(diff)\n",
    "\n",
    "print(\"Rows of lastfm_sounds (elements): \", lastfm_sounds.shape[0])\n",
    "#lastfm_sounds.head()"
   ]
  },
  {
   "cell_type": "code",
   "execution_count": 5,
   "metadata": {},
   "outputs": [],
   "source": [
    "most_frequent = get_most_frequent(lastfm_sounds,N = 20)"
   ]
  },
  {
   "cell_type": "code",
   "execution_count": 6,
   "metadata": {},
   "outputs": [
    {
     "data": {
      "text/html": [
       "<div>\n",
       "<style scoped>\n",
       "    .dataframe tbody tr th:only-of-type {\n",
       "        vertical-align: middle;\n",
       "    }\n",
       "\n",
       "    .dataframe tbody tr th {\n",
       "        vertical-align: top;\n",
       "    }\n",
       "\n",
       "    .dataframe thead th {\n",
       "        text-align: right;\n",
       "    }\n",
       "</style>\n",
       "<table border=\"1\" class=\"dataframe\">\n",
       "  <thead>\n",
       "    <tr style=\"text-align: right;\">\n",
       "      <th></th>\n",
       "      <th>genre2</th>\n",
       "      <th>genre3</th>\n",
       "      <th>genre4</th>\n",
       "      <th>genre5</th>\n",
       "      <th>genre6</th>\n",
       "      <th>genre7</th>\n",
       "      <th>genre8</th>\n",
       "      <th>genre9</th>\n",
       "      <th>genre10</th>\n",
       "    </tr>\n",
       "    <tr>\n",
       "      <th>recordingmbid</th>\n",
       "      <th></th>\n",
       "      <th></th>\n",
       "      <th></th>\n",
       "      <th></th>\n",
       "      <th></th>\n",
       "      <th></th>\n",
       "      <th></th>\n",
       "      <th></th>\n",
       "      <th></th>\n",
       "    </tr>\n",
       "  </thead>\n",
       "  <tbody>\n",
       "    <tr>\n",
       "      <th>00005a44-2152-4971-80c1-c217563845eb</th>\n",
       "      <td>metal---heavymetal</td>\n",
       "      <td>NaN</td>\n",
       "      <td>NaN</td>\n",
       "      <td>NaN</td>\n",
       "      <td>NaN</td>\n",
       "      <td>NaN</td>\n",
       "      <td>NaN</td>\n",
       "      <td>NaN</td>\n",
       "      <td>NaN</td>\n",
       "    </tr>\n",
       "    <tr>\n",
       "      <th>00005ac4-210c-4914-89ba-6279ea881809</th>\n",
       "      <td>rock---classicrock</td>\n",
       "      <td>NaN</td>\n",
       "      <td>NaN</td>\n",
       "      <td>NaN</td>\n",
       "      <td>NaN</td>\n",
       "      <td>NaN</td>\n",
       "      <td>NaN</td>\n",
       "      <td>NaN</td>\n",
       "      <td>NaN</td>\n",
       "    </tr>\n",
       "    <tr>\n",
       "      <th>00007960-9d81-4192-b548-ad33d6b0ca54</th>\n",
       "      <td>rock---alternative</td>\n",
       "      <td>rock---indie</td>\n",
       "      <td>NaN</td>\n",
       "      <td>NaN</td>\n",
       "      <td>NaN</td>\n",
       "      <td>NaN</td>\n",
       "      <td>NaN</td>\n",
       "      <td>NaN</td>\n",
       "      <td>NaN</td>\n",
       "    </tr>\n",
       "    <tr>\n",
       "      <th>0000d8a7-8a9b-4b9d-a95c-038c6cb66547</th>\n",
       "      <td>rock---indierock</td>\n",
       "      <td>NaN</td>\n",
       "      <td>NaN</td>\n",
       "      <td>NaN</td>\n",
       "      <td>NaN</td>\n",
       "      <td>NaN</td>\n",
       "      <td>NaN</td>\n",
       "      <td>NaN</td>\n",
       "      <td>NaN</td>\n",
       "    </tr>\n",
       "    <tr>\n",
       "      <th>0000fb36-5ee0-44c5-9fa7-5c944d8a85ac</th>\n",
       "      <td>NaN</td>\n",
       "      <td>electronic---synthpop</td>\n",
       "      <td>NaN</td>\n",
       "      <td>NaN</td>\n",
       "      <td>NaN</td>\n",
       "      <td>NaN</td>\n",
       "      <td>NaN</td>\n",
       "      <td>NaN</td>\n",
       "      <td>NaN</td>\n",
       "    </tr>\n",
       "  </tbody>\n",
       "</table>\n",
       "</div>"
      ],
      "text/plain": [
       "                                                  genre2  \\\n",
       "recordingmbid                                              \n",
       "00005a44-2152-4971-80c1-c217563845eb  metal---heavymetal   \n",
       "00005ac4-210c-4914-89ba-6279ea881809  rock---classicrock   \n",
       "00007960-9d81-4192-b548-ad33d6b0ca54  rock---alternative   \n",
       "0000d8a7-8a9b-4b9d-a95c-038c6cb66547    rock---indierock   \n",
       "0000fb36-5ee0-44c5-9fa7-5c944d8a85ac                 NaN   \n",
       "\n",
       "                                                     genre3 genre4 genre5  \\\n",
       "recordingmbid                                                               \n",
       "00005a44-2152-4971-80c1-c217563845eb                    NaN    NaN    NaN   \n",
       "00005ac4-210c-4914-89ba-6279ea881809                    NaN    NaN    NaN   \n",
       "00007960-9d81-4192-b548-ad33d6b0ca54           rock---indie    NaN    NaN   \n",
       "0000d8a7-8a9b-4b9d-a95c-038c6cb66547                    NaN    NaN    NaN   \n",
       "0000fb36-5ee0-44c5-9fa7-5c944d8a85ac  electronic---synthpop    NaN    NaN   \n",
       "\n",
       "                                     genre6 genre7 genre8 genre9 genre10  \n",
       "recordingmbid                                                             \n",
       "00005a44-2152-4971-80c1-c217563845eb    NaN    NaN    NaN    NaN     NaN  \n",
       "00005ac4-210c-4914-89ba-6279ea881809    NaN    NaN    NaN    NaN     NaN  \n",
       "00007960-9d81-4192-b548-ad33d6b0ca54    NaN    NaN    NaN    NaN     NaN  \n",
       "0000d8a7-8a9b-4b9d-a95c-038c6cb66547    NaN    NaN    NaN    NaN     NaN  \n",
       "0000fb36-5ee0-44c5-9fa7-5c944d8a85ac    NaN    NaN    NaN    NaN     NaN  "
      ]
     },
     "execution_count": 6,
     "metadata": {},
     "output_type": "execute_result"
    }
   ],
   "source": [
    "lastfm_sounds = reduce_df(lastfm_sounds,most_frequent)\n",
    "lastfm_sounds.head()"
   ]
  },
  {
   "cell_type": "code",
   "execution_count": 10,
   "metadata": {},
   "outputs": [],
   "source": [
    "selected_features = load_file(\"acousticbrainz-mediaeval2017-train-amplab2019-selected-features-mbid.csv\")\n",
    "diff_features = set(selected_features.index.tolist())-set(lastfm_sounds.index.tolist())\n",
    "selected_features = selected_features.drop(diff_features)"
   ]
  },
  {
   "cell_type": "code",
   "execution_count": null,
   "metadata": {},
   "outputs": [],
   "source": []
  }
 ],
 "metadata": {
  "kernelspec": {
   "display_name": "Python 3",
   "language": "python",
   "name": "python3"
  },
  "language_info": {
   "codemirror_mode": {
    "name": "ipython",
    "version": 3
   },
   "file_extension": ".py",
   "mimetype": "text/x-python",
   "name": "python",
   "nbconvert_exporter": "python",
   "pygments_lexer": "ipython3",
   "version": "3.5.2"
  }
 },
 "nbformat": 4,
 "nbformat_minor": 2
}
