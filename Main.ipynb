{
 "cells": [
  {
   "cell_type": "code",
   "execution_count": 1,
   "metadata": {},
   "outputs": [
    {
     "name": "stdout",
     "output_type": "stream",
     "text": [
      "ROOT_DIR:  /notebooks\n",
      "IMAGE_FOLDER:  /notebooks/Output Plots\n",
      "DATA_FOLDER:  /notebooks/Data Files\n"
     ]
    }
   ],
   "source": [
    "from utilities.constants import *\n",
    "from utilities.data_management import *\n",
    "from utilities.file_management import *\n",
    "\n",
    "print(\"ROOT_DIR: \",ROOT_DIR)\n",
    "print(\"IMAGE_FOLDER: \",IMAGE_FOLDER)\n",
    "print(\"DATA_FOLDER: \",DATA_FOLDER)"
   ]
  },
  {
   "cell_type": "code",
   "execution_count": 2,
   "metadata": {},
   "outputs": [],
   "source": [
    "allmusic_ids = get_ids(\"acousticbrainz-mediaeval2017-allmusic-train.tsv\")\n",
    "discogs_ids = get_ids(\"acousticbrainz-mediaeval2017-discogs-train.tsv\")\n",
    "lastfm_ids = get_ids(\"acousticbrainz-mediaeval2017-lastfm-train.tsv\")\n",
    "tagtraum_ids = get_ids(\"acousticbrainz-mediaeval2017-tagtraum-train.tsv\")"
   ]
  },
  {
   "cell_type": "code",
   "execution_count": 3,
   "metadata": {},
   "outputs": [],
   "source": [
    "intersection_ids = compute_instersection(allmusic_ids,discogs_ids,lastfm_ids,tagtraum_ids)"
   ]
  },
  {
   "cell_type": "code",
   "execution_count": 4,
   "metadata": {},
   "outputs": [
    {
     "name": "stdout",
     "output_type": "stream",
     "text": [
      "Rows of lastfm_sounds (elements):  247716\n"
     ]
    },
    {
     "data": {
      "text/html": [
       "<div>\n",
       "<style scoped>\n",
       "    .dataframe tbody tr th:only-of-type {\n",
       "        vertical-align: middle;\n",
       "    }\n",
       "\n",
       "    .dataframe tbody tr th {\n",
       "        vertical-align: top;\n",
       "    }\n",
       "\n",
       "    .dataframe thead th {\n",
       "        text-align: right;\n",
       "    }\n",
       "</style>\n",
       "<table border=\"1\" class=\"dataframe\">\n",
       "  <thead>\n",
       "    <tr style=\"text-align: right;\">\n",
       "      <th></th>\n",
       "      <th>releasegroupmbid</th>\n",
       "      <th>genre1</th>\n",
       "      <th>genre2</th>\n",
       "      <th>genre3</th>\n",
       "      <th>genre4</th>\n",
       "      <th>genre5</th>\n",
       "      <th>genre6</th>\n",
       "      <th>genre7</th>\n",
       "      <th>genre8</th>\n",
       "      <th>genre9</th>\n",
       "      <th>genre10</th>\n",
       "    </tr>\n",
       "    <tr>\n",
       "      <th>recordingmbid</th>\n",
       "      <th></th>\n",
       "      <th></th>\n",
       "      <th></th>\n",
       "      <th></th>\n",
       "      <th></th>\n",
       "      <th></th>\n",
       "      <th></th>\n",
       "      <th></th>\n",
       "      <th></th>\n",
       "      <th></th>\n",
       "      <th></th>\n",
       "    </tr>\n",
       "  </thead>\n",
       "  <tbody>\n",
       "    <tr>\n",
       "      <th>00000baf-9215-483a-8900-93756eaf1cfc</th>\n",
       "      <td>6200797e-31ff-3df5-81f5-5967f36d71f0</td>\n",
       "      <td>metal</td>\n",
       "      <td>metal---folkmetal</td>\n",
       "      <td>NaN</td>\n",
       "      <td>NaN</td>\n",
       "      <td>NaN</td>\n",
       "      <td>NaN</td>\n",
       "      <td>NaN</td>\n",
       "      <td>NaN</td>\n",
       "      <td>NaN</td>\n",
       "      <td>NaN</td>\n",
       "    </tr>\n",
       "    <tr>\n",
       "      <th>0000167c-95f5-48eb-b15f-04790e09a765</th>\n",
       "      <td>ee405bde-8142-31d7-a666-7463c93b43bf</td>\n",
       "      <td>metal</td>\n",
       "      <td>metal---classicbritishheavymetal</td>\n",
       "      <td>pop</td>\n",
       "      <td>pop---disco</td>\n",
       "      <td>NaN</td>\n",
       "      <td>NaN</td>\n",
       "      <td>NaN</td>\n",
       "      <td>NaN</td>\n",
       "      <td>NaN</td>\n",
       "      <td>NaN</td>\n",
       "    </tr>\n",
       "    <tr>\n",
       "      <th>00002fc9-7283-44dd-bf6f-94c9492d0998</th>\n",
       "      <td>4f5f3096-d4ad-4bde-b99e-7f776788819e</td>\n",
       "      <td>hiphop</td>\n",
       "      <td>NaN</td>\n",
       "      <td>NaN</td>\n",
       "      <td>NaN</td>\n",
       "      <td>NaN</td>\n",
       "      <td>NaN</td>\n",
       "      <td>NaN</td>\n",
       "      <td>NaN</td>\n",
       "      <td>NaN</td>\n",
       "      <td>NaN</td>\n",
       "    </tr>\n",
       "    <tr>\n",
       "      <th>00005a44-2152-4971-80c1-c217563845eb</th>\n",
       "      <td>3d94dfaf-403f-3531-a750-7f948f40fda0</td>\n",
       "      <td>metal</td>\n",
       "      <td>metal---heavymetal</td>\n",
       "      <td>metal---powermetal</td>\n",
       "      <td>NaN</td>\n",
       "      <td>NaN</td>\n",
       "      <td>NaN</td>\n",
       "      <td>NaN</td>\n",
       "      <td>NaN</td>\n",
       "      <td>NaN</td>\n",
       "      <td>NaN</td>\n",
       "    </tr>\n",
       "    <tr>\n",
       "      <th>00005ac4-210c-4914-89ba-6279ea881809</th>\n",
       "      <td>026da584-9937-3777-b4bc-cfe946adbf41</td>\n",
       "      <td>rock</td>\n",
       "      <td>rock---classicrock</td>\n",
       "      <td>NaN</td>\n",
       "      <td>NaN</td>\n",
       "      <td>NaN</td>\n",
       "      <td>NaN</td>\n",
       "      <td>NaN</td>\n",
       "      <td>NaN</td>\n",
       "      <td>NaN</td>\n",
       "      <td>NaN</td>\n",
       "    </tr>\n",
       "  </tbody>\n",
       "</table>\n",
       "</div>"
      ],
      "text/plain": [
       "                                                          releasegroupmbid  \\\n",
       "recordingmbid                                                                \n",
       "00000baf-9215-483a-8900-93756eaf1cfc  6200797e-31ff-3df5-81f5-5967f36d71f0   \n",
       "0000167c-95f5-48eb-b15f-04790e09a765  ee405bde-8142-31d7-a666-7463c93b43bf   \n",
       "00002fc9-7283-44dd-bf6f-94c9492d0998  4f5f3096-d4ad-4bde-b99e-7f776788819e   \n",
       "00005a44-2152-4971-80c1-c217563845eb  3d94dfaf-403f-3531-a750-7f948f40fda0   \n",
       "00005ac4-210c-4914-89ba-6279ea881809  026da584-9937-3777-b4bc-cfe946adbf41   \n",
       "\n",
       "                                      genre1  \\\n",
       "recordingmbid                                  \n",
       "00000baf-9215-483a-8900-93756eaf1cfc   metal   \n",
       "0000167c-95f5-48eb-b15f-04790e09a765   metal   \n",
       "00002fc9-7283-44dd-bf6f-94c9492d0998  hiphop   \n",
       "00005a44-2152-4971-80c1-c217563845eb   metal   \n",
       "00005ac4-210c-4914-89ba-6279ea881809    rock   \n",
       "\n",
       "                                                                genre2  \\\n",
       "recordingmbid                                                            \n",
       "00000baf-9215-483a-8900-93756eaf1cfc                 metal---folkmetal   \n",
       "0000167c-95f5-48eb-b15f-04790e09a765  metal---classicbritishheavymetal   \n",
       "00002fc9-7283-44dd-bf6f-94c9492d0998                               NaN   \n",
       "00005a44-2152-4971-80c1-c217563845eb                metal---heavymetal   \n",
       "00005ac4-210c-4914-89ba-6279ea881809                rock---classicrock   \n",
       "\n",
       "                                                  genre3       genre4 genre5  \\\n",
       "recordingmbid                                                                  \n",
       "00000baf-9215-483a-8900-93756eaf1cfc                 NaN          NaN    NaN   \n",
       "0000167c-95f5-48eb-b15f-04790e09a765                 pop  pop---disco    NaN   \n",
       "00002fc9-7283-44dd-bf6f-94c9492d0998                 NaN          NaN    NaN   \n",
       "00005a44-2152-4971-80c1-c217563845eb  metal---powermetal          NaN    NaN   \n",
       "00005ac4-210c-4914-89ba-6279ea881809                 NaN          NaN    NaN   \n",
       "\n",
       "                                     genre6 genre7 genre8 genre9 genre10  \n",
       "recordingmbid                                                             \n",
       "00000baf-9215-483a-8900-93756eaf1cfc    NaN    NaN    NaN    NaN     NaN  \n",
       "0000167c-95f5-48eb-b15f-04790e09a765    NaN    NaN    NaN    NaN     NaN  \n",
       "00002fc9-7283-44dd-bf6f-94c9492d0998    NaN    NaN    NaN    NaN     NaN  \n",
       "00005a44-2152-4971-80c1-c217563845eb    NaN    NaN    NaN    NaN     NaN  \n",
       "00005ac4-210c-4914-89ba-6279ea881809    NaN    NaN    NaN    NaN     NaN  "
      ]
     },
     "execution_count": 4,
     "metadata": {},
     "output_type": "execute_result"
    }
   ],
   "source": [
    "lastfm_sounds = load_file(\"acousticbrainz-mediaeval2017-lastfm-train.tsv\")\n",
    "\n",
    "#get the ids to remove and remove them from the dataframe\n",
    "diff = set(lastfm_sounds.index.tolist())-intersection_ids\n",
    "lastfm_sounds = lastfm_sounds.drop(diff)\n",
    "\n",
    "print(\"Rows of lastfm_sounds (elements): \", lastfm_sounds.shape[0])\n",
    "lastfm_sounds.head()"
   ]
  },
  {
   "cell_type": "code",
   "execution_count": 5,
   "metadata": {},
   "outputs": [],
   "source": [
    "save_file(lastfm_sounds,\n",
    "          \"acousticbrainz-mediaeval2017-lastfm-train-intersection.tsv\",\n",
    "          sep='\\t')"
   ]
  },
  {
   "cell_type": "code",
   "execution_count": null,
   "metadata": {},
   "outputs": [],
   "source": [
    "lastfm_sounds = load_file(\n",
    "    \"acousticbrainz-mediaeval2017-lastfm-train-intersection.tsv\")\n"
   ]
  }
 ],
 "metadata": {
  "kernelspec": {
   "display_name": "Python 3",
   "language": "python",
   "name": "python3"
  },
  "language_info": {
   "codemirror_mode": {
    "name": "ipython",
    "version": 3
   },
   "file_extension": ".py",
   "mimetype": "text/x-python",
   "name": "python",
   "nbconvert_exporter": "python",
   "pygments_lexer": "ipython3",
   "version": "3.5.2"
  }
 },
 "nbformat": 4,
 "nbformat_minor": 2
}
